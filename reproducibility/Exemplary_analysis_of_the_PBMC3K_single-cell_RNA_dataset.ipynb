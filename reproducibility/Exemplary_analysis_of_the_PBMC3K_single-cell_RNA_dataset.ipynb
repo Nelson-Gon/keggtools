{
 "cells": [
  {
   "cell_type": "markdown",
   "metadata": {},
   "source": [
    "# Exemplary analysis of the PBMC3K single-cell RNA dataset\n",
    "\n",
    "Dependencies\n",
    "\n",
    "- scanpy==1.7.2\n",
    "- anndata==0.7.6\n",
    "- umap==0.5.1\n",
    "- nmpy==1.19.4\n",
    "- scipy==1.5.3\n",
    "- pandas==1.1.4\n",
    "- scikit-learn==0.23.2\n",
    "- statsmodels==0.12.1\n",
    "- python-igraph==0.9.1\n",
    "- louvain==0.7.0\n"
   ]
  },
  {
   "cell_type": "code",
   "execution_count": null,
   "metadata": {},
   "outputs": [],
   "source": [
    "from typing import Optional\n",
    "import csv\n",
    "import scanpy as sc\n",
    "import os\n",
    "import matplotlib.pyplot as plt\n",
    "import numpy as np\n",
    "import pandas as pd\n",
    "import math\n",
    "\n",
    "rawdata_dir = os.path.join(os.getcwd(), \"rawdata\")\n",
    "figure_dir = \"/home/jovyan/work/figures\"\n",
    "\n",
    "# Global settings\n",
    "sc.settings.verbosity = 0\n",
    "sc.logging.print_header()\n",
    "sc.settings.set_figure_params(dpi=300, facecolor='white')"
   ]
  },
  {
   "cell_type": "code",
   "execution_count": null,
   "metadata": {},
   "outputs": [],
   "source": [
    "adata = sc.read_10x_mtx(rawdata_dir, var_names=\"gene_symbols\", cache=False)\n",
    "adata.var_names_make_unique()"
   ]
  },
  {
   "cell_type": "code",
   "execution_count": null,
   "metadata": {},
   "outputs": [],
   "source": [
    "sc.pp.filter_cells(adata, min_genes=200)\n",
    "sc.pp.filter_genes(adata, min_cells=3)"
   ]
  },
  {
   "cell_type": "code",
   "execution_count": null,
   "metadata": {},
   "outputs": [],
   "source": [
    "adata.var['mt'] = adata.var_names.str.startswith('MT-')\n",
    "sc.pp.calculate_qc_metrics(adata, qc_vars=['mt'], percent_top=None, log1p=False, inplace=True)"
   ]
  },
  {
   "cell_type": "code",
   "execution_count": null,
   "metadata": {},
   "outputs": [],
   "source": [
    "sc.pl.violin(adata, ['n_genes_by_counts', 'total_counts', 'pct_counts_mt'], jitter=0.4, multi_panel=True)"
   ]
  },
  {
   "cell_type": "code",
   "execution_count": null,
   "metadata": {},
   "outputs": [],
   "source": [
    "adata = adata[adata.obs.n_genes_by_counts < 2500, :]\n",
    "adata = adata[adata.obs.pct_counts_mt < 5, :]"
   ]
  },
  {
   "cell_type": "code",
   "execution_count": null,
   "metadata": {},
   "outputs": [],
   "source": [
    "sc.pp.normalize_total(adata, target_sum=1e4)\n",
    "sc.pp.log1p(adata)"
   ]
  },
  {
   "cell_type": "code",
   "execution_count": null,
   "metadata": {},
   "outputs": [],
   "source": [
    "sc.pp.highly_variable_genes(adata, min_mean=0.0125, max_mean=3, min_disp=0.5)\n",
    "adata.raw = adata\n",
    "adata = adata[:, adata.var.highly_variable]"
   ]
  },
  {
   "cell_type": "code",
   "execution_count": null,
   "metadata": {},
   "outputs": [],
   "source": [
    "sc.pp.regress_out(adata, ['total_counts', 'pct_counts_mt'])\n",
    "sc.pp.scale(adata, max_value=10)"
   ]
  },
  {
   "cell_type": "code",
   "execution_count": null,
   "metadata": {},
   "outputs": [],
   "source": [
    "sc.tl.pca(adata, svd_solver='arpack')\n",
    "sc.pp.neighbors(adata, n_neighbors=10, n_pcs=40)\n",
    "sc.tl.umap(adata)\n",
    "sc.tl.leiden(adata)\n",
    "sc.pl.umap(adata, color=['leiden'])"
   ]
  },
  {
   "cell_type": "code",
   "execution_count": null,
   "metadata": {},
   "outputs": [],
   "source": [
    "sc.pl.violin(adata, ['CST3', 'NKG7', 'PPBP'], groupby='leiden')"
   ]
  },
  {
   "cell_type": "markdown",
   "metadata": {},
   "source": [
    "### Rename leiden clusters"
   ]
  },
  {
   "cell_type": "code",
   "execution_count": null,
   "metadata": {},
   "outputs": [],
   "source": [
    "new_cluster_names = [\n",
    "    'CD4+ T-cells',\n",
    "    'CD14+ Monocytes',\n",
    "    'B-cells',\n",
    "    'CD8+ T-cells',\n",
    "    'NK cells',\n",
    "    'FCGR3A+ Monocytes',\n",
    "    'Dendritic cells',\n",
    "    'Megakaryocytes'\n",
    "]\n",
    "adata.rename_categories('leiden', new_cluster_names)"
   ]
  },
  {
   "cell_type": "markdown",
   "metadata": {},
   "source": [
    "### Generate final figure versions for paper\n",
    "\n",
    "* marker genes violin plot\n",
    "* UMAP plot with cluster annotation"
   ]
  },
  {
   "cell_type": "code",
   "execution_count": null,
   "metadata": {},
   "outputs": [],
   "source": []
  },
  {
   "cell_type": "code",
   "execution_count": null,
   "metadata": {},
   "outputs": [],
   "source": [
    "fig, ax = plt.subplots(1, 1, figsize=(10,8))\n",
    "ax.set_aspect('equal', adjustable='box')\n",
    "sc.pl.umap(adata, color='leiden', legend_loc='right margin', title='', frameon=True, ax=ax, show=False)\n",
    "plt.tight_layout(pad=3.0)\n",
    "\n",
    "plt.savefig(os.path.join(figure_dir, \"figure2.png\"))"
   ]
  },
  {
   "cell_type": "markdown",
   "metadata": {},
   "source": [
    "### Differential analysis results to pandas dataframe"
   ]
  },
  {
   "cell_type": "code",
   "execution_count": null,
   "metadata": {},
   "outputs": [],
   "source": [
    "sc.tl.rank_genes_groups(adata, 'leiden', method='wilcoxon', n_genes=100)\n",
    "pd.DataFrame(adata.uns['rank_genes_groups']['names']).head(5)"
   ]
  },
  {
   "cell_type": "code",
   "execution_count": null,
   "metadata": {},
   "outputs": [],
   "source": [
    "def export_uns_data(adata_obj,\n",
    "                    descriptor: Optional[str] = \"rank_genes_groups\",\n",
    "                    filename: Optional[str] = None,\n",
    "                    basedir: Optional[str] = None,\n",
    "                    extract_cols=[\"names\", \"pvals\", \"pvals_adj\", \"logfoldchanges\"],\n",
    "                    overwrite=False):\n",
    "\n",
    "    if not basedir:\n",
    "        basedir = os.getcwd()\n",
    "\n",
    "    # descriptor = \"rank_genes_groups\"\n",
    "    print(f\"Exporting differential expression data for '{descriptor}'\\n\" + \\\n",
    "         \"\\n\".join([f\"\\t{key}: {value}\" for key, value in adata_obj.uns[descriptor][\"params\"].items()]))\n",
    "\n",
    "    n_clusters = len(adata_obj.uns[descriptor][\"names\"][0])\n",
    "    n_clusters\n",
    "\n",
    "    data = {\"cluster\": []}\n",
    "    for col in extract_cols:\n",
    "        data[col] = []\n",
    "\n",
    "    results_df = pd.DataFrame(data)\n",
    "\n",
    "    items_per_cluster = len(np.array([list(i) for i in np.array(adata_obj.uns[descriptor][extract_cols[0]])])[:,0])\n",
    "\n",
    "    for cluster in range(0, n_clusters):\n",
    "\n",
    "        data = {\"cluster\": []}\n",
    "        for col in extract_cols:\n",
    "            data[col] = []\n",
    "\n",
    "        df = pd.DataFrame(data)\n",
    "\n",
    "        df[\"cluster\"] = pd.array([cluster] * items_per_cluster, dtype=\"Int32\")\n",
    "\n",
    "        for col in extract_cols:\n",
    "            cluster_vars = np.array([list(i) for i in np.array(adata_obj.uns[descriptor][col])])[:,cluster]\n",
    "            df[col] = cluster_vars\n",
    "\n",
    "        results_df = results_df.append(df)\n",
    "\n",
    "    if filename:\n",
    "        # return results_df\n",
    "        full_filename = os.path.join(basedir, filename)\n",
    "        if os.path.isfile(full_filename) and not overwrite:\n",
    "            raise FileExistsError(f\"File {full_filename} already exists\")\n",
    "\n",
    "        results_df.to_csv(full_filename, index=False)\n",
    "\n",
    "    return results_df"
   ]
  },
  {
   "cell_type": "code",
   "execution_count": null,
   "metadata": {},
   "outputs": [],
   "source": [
    "diffexp_df = export_uns_data(adata, filename=\"export_uns.csv\", overwrite=True)\n",
    "diffexp_df.head()"
   ]
  },
  {
   "cell_type": "markdown",
   "metadata": {},
   "source": [
    "### Perform KEGGTOOLS enrichment analysis"
   ]
  },
  {
   "cell_type": "code",
   "execution_count": null,
   "metadata": {},
   "outputs": [],
   "source": [
    "# keggtool imports\n",
    "from keggtools import (\n",
    "    Pathway,\n",
    "    Enrichment,\n",
    "    EnrichmentResult,\n",
    "    Resolver,\n",
    "    Storage,\n",
    "    Renderer,\n",
    "    IMMUNE_SYSTEM_PATHWAYS,\n",
    ")"
   ]
  },
  {
   "cell_type": "code",
   "execution_count": null,
   "metadata": {},
   "outputs": [],
   "source": [
    "organism_id = \"hsa\"\n",
    "# Analysed Cluster 4 (NK cells)\n",
    "cluster = 4"
   ]
  },
  {
   "cell_type": "code",
   "execution_count": null,
   "metadata": {},
   "outputs": [],
   "source": [
    "diffexp_df = diffexp_df[diffexp_df[\"cluster\"] == cluster]\n",
    "diffexp_df.head()"
   ]
  },
  {
   "cell_type": "code",
   "execution_count": null,
   "metadata": {},
   "outputs": [],
   "source": [
    "analysis = Enrichment(org=organism_id, pathways=IMMUNE_SYSTEM_PATHWAYS)"
   ]
  },
  {
   "cell_type": "markdown",
   "metadata": {},
   "source": [
    "### Convert to list of entez ids using mygene"
   ]
  },
  {
   "cell_type": "code",
   "execution_count": null,
   "metadata": {},
   "outputs": [],
   "source": [
    "# gene_list\n",
    "import mygene\n",
    "mg = mygene.MyGeneInfo()"
   ]
  },
  {
   "cell_type": "code",
   "execution_count": null,
   "metadata": {},
   "outputs": [],
   "source": [
    "gene_list = list(diffexp_df[\"names\"])\n",
    "query_result = mg.querymany(gene_list, scopes=\"symbol\", species=\"human\")"
   ]
  },
  {
   "cell_type": "code",
   "execution_count": null,
   "metadata": {},
   "outputs": [],
   "source": [
    "entrz_gene_list= []\n",
    "for item in query_result:\n",
    "    if \"entrezgene\" in item:\n",
    "        # Append entrez id to list\n",
    "        entrz_gene_list.append(int(item[\"entrezgene\"]))\n",
    "\n",
    "        # Add entrez id to dataframe\n",
    "        diffexp_df.loc[diffexp_df[\"names\"] == item[\"query\"], \"entrez\"] = int(item[\"entrezgene\"])\n",
    "    else:\n",
    "        print(f\"Not found entrez id in result:\", item)\n",
    "        diffexp_df.loc[diffexp_df[\"names\"] == item[\"query\"], \"entrez\"] = 0"
   ]
  },
  {
   "cell_type": "markdown",
   "metadata": {},
   "source": [
    "### Run enrichment analysis"
   ]
  },
  {
   "cell_type": "code",
   "execution_count": null,
   "metadata": {},
   "outputs": [],
   "source": [
    "analysis.run_analysis(gene_list=entrz_gene_list)\n",
    "result = analysis.to_dataframe()"
   ]
  },
  {
   "cell_type": "code",
   "execution_count": null,
   "metadata": {},
   "outputs": [],
   "source": [
    "# Export KEGG Analysis result\n",
    "result.to_csv(\"kegg_enrichment.csv\",index=False)"
   ]
  },
  {
   "cell_type": "markdown",
   "metadata": {},
   "source": [
    "### Plot results of enrichment analysis"
   ]
  },
  {
   "cell_type": "code",
   "execution_count": null,
   "metadata": {},
   "outputs": [],
   "source": [
    "import matplotlib.pyplot as plt\n",
    "import math\n",
    "\n",
    "plt.figure(figsize=(8, 5), dpi=300)\n",
    "scatter = plt.scatter(x=result[\"study_count\"],\n",
    "                      y=result[\"pathway_name\"],\n",
    "                      c=[-math.log10(x) for x in result[\"pvalue\"]],\n",
    "                      cmap=\"coolwarm\")\n",
    "\n",
    "cbar = plt.colorbar()\n",
    "cbar.set_label(\"- log10(p value)\")\n",
    "\n",
    "plt.grid(b=None)\n",
    "plt.tight_layout()\n",
    "plt.savefig(os.path.join(figure_dir, \"figure4.png\"), bbox_inches='tight')\n",
    "plt.show()"
   ]
  },
  {
   "cell_type": "markdown",
   "metadata": {},
   "source": [
    "### Plot pathway\n",
    "\n",
    "* \"Natural killer cell mediated cytotoxicity\" (hsa:04650) show a significant p value"
   ]
  },
  {
   "cell_type": "code",
   "execution_count": null,
   "metadata": {},
   "outputs": [],
   "source": [
    "pathway = Resolver(org=\"hsa\").get_pathway(\"04650\")"
   ]
  },
  {
   "cell_type": "code",
   "execution_count": null,
   "metadata": {},
   "outputs": [],
   "source": [
    "renderer = Renderer(kegg_pathway=pathway)"
   ]
  },
  {
   "cell_type": "code",
   "execution_count": null,
   "metadata": {},
   "outputs": [],
   "source": [
    "diffexp_df[[\"entrez\"]] = diffexp_df[[\"entrez\"]].astype(int)\n",
    "diffexp_df.head()"
   ]
  },
  {
   "cell_type": "code",
   "execution_count": null,
   "metadata": {},
   "outputs": [],
   "source": [
    "overlay = dict(zip(list(diffexp_df[\"entrez\"]), list(diffexp_df[\"logfoldchanges\"])))\n",
    "renderer.set_overlay(overlay)\n",
    "dot_string = renderer.raw_render()"
   ]
  },
  {
   "cell_type": "code",
   "execution_count": null,
   "metadata": {},
   "outputs": [],
   "source": [
    "with open(os.path.join(figure_dir, \"figure5.dot\"), \"w\") as f:\n",
    "    f.write(dot_string)"
   ]
  },
  {
   "cell_type": "code",
   "execution_count": null,
   "metadata": {},
   "outputs": [],
   "source": []
  },
  {
   "cell_type": "code",
   "execution_count": null,
   "metadata": {},
   "outputs": [],
   "source": [
    "from IPython.display import Image, display\n",
    "img = Image(os.path.join(\"/tmp\", \"figure5.png\"))\n",
    "display(img)"
   ]
  },
  {
   "cell_type": "code",
   "execution_count": null,
   "metadata": {},
   "outputs": [],
   "source": []
  },
  {
   "cell_type": "code",
   "execution_count": null,
   "metadata": {},
   "outputs": [],
   "source": []
  },
  {
   "cell_type": "code",
   "execution_count": null,
   "metadata": {},
   "outputs": [],
   "source": []
  }
 ],
 "metadata": {
  "kernelspec": {
   "display_name": "Python 3.6.9 ('venv': venv)",
   "language": "python",
   "name": "python3"
  },
  "language_info": {
   "codemirror_mode": {
    "name": "ipython",
    "version": 3
   },
   "file_extension": ".py",
   "mimetype": "text/x-python",
   "name": "python",
   "nbconvert_exporter": "python",
   "pygments_lexer": "ipython3",
   "version": "3.6.9"
  },
  "vscode": {
   "interpreter": {
    "hash": "49d7be14b8e5c96d15d3b5e936e875a7d97d9e53e95b73ff12ebd698c5541f22"
   }
  }
 },
 "nbformat": 4,
 "nbformat_minor": 4
}
